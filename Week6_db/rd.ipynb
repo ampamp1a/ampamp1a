{
 "cells": [
  {
   "cell_type": "code",
   "execution_count": 1,
   "metadata": {},
   "outputs": [],
   "source": [
    "import sqlite3"
   ]
  },
  {
   "cell_type": "code",
   "execution_count": 21,
   "metadata": {},
   "outputs": [],
   "source": [
    "con = sqlite3.connect('w5.db')\n",
    "cur = con.cursor()"
   ]
  },
  {
   "cell_type": "code",
   "execution_count": 47,
   "metadata": {},
   "outputs": [],
   "source": [
    "def select():\n",
    "    cur.execute('SELECT * FROM subjects')\n",
    "    rows = cur.fetchall()\n",
    "    return rows"
   ]
  },
  {
   "cell_type": "code",
   "execution_count": 44,
   "metadata": {},
   "outputs": [
    {
     "name": "stdout",
     "output_type": "stream",
     "text": [
      "(285, '40313007', 'PHYSICS II', 3, 'A', 4.0, '2564', 2, 8, 36, 8)\n",
      "(286, '40313008', 'PHYSICS LABORATORY II', 1, 'A', 4.0, '2564', 2, 8, 36, 8)\n",
      "(287, '80103002', 'ENGLISH II', 3, 'A', 4.0, '2564', 2, 8, 37, 8)\n",
      "(288, '10123105', 'STATISTICS FOR COMPUTER ENGINEER', 3, 'A', 4.0, '2565', 1, 8, 37, 8)\n",
      "(289, '10123106', 'INTRODUCTION TO SIGNALS AND SYSTEMS', 3, 'C+', 2.5, '2565', 1, 8, 37, 8)\n",
      "(290, '10123107', 'LOGIC DESIGN OF DIGITAL SYSTEM', 3, 'A', 4.0, '2565', 1, 8, 37, 8)\n",
      "(291, '10123108', 'DIGITAL SYSTEM DESIGN LABORATORY', 1, 'A', 4.0, '2565', 1, 8, 37, 8)\n",
      "(292, '10123131', 'SOFTWARE DEVELOPMENT PRACTICE', 3, 'B+', 3.5, '2565', 1, 8, 37, 8)\n",
      "(293, '10123133', 'DISCRETE MATHEMATICS', 3, 'A', 4.0, '2565', 1, 8, 37, 8)\n",
      "(294, '80103034', 'ENGLISH CONVERSATION', 3, 'A', 4.0, '2565', 1, 8, 37, 8)\n"
     ]
    }
   ],
   "source": [
    "for i in select('subjects')[-10:]:\n",
    "    print(i)"
   ]
  },
  {
   "cell_type": "code",
   "execution_count": 96,
   "metadata": {},
   "outputs": [],
   "source": [
    "def avail_subjects():\n",
    "    rows = select()\n",
    "    avail = []\n",
    "    for i in rows:\n",
    "        avail.append((i[1].strip(),i[2].strip(),i[3]))\n",
    "    return set(avail)"
   ]
  },
  {
   "cell_type": "code",
   "execution_count": 106,
   "metadata": {},
   "outputs": [
    {
     "data": {
      "text/plain": [
       "[('080103002', 'ENGLISH II', 3),\n",
       " ('010123107', 'LOGIC DESIGN OF DIGITAL SYSTEM', 3),\n",
       " ('040313008', 'PHYSICS LABORATORY II', 1),\n",
       " ('080303505', 'TABLE TENNIS', 1),\n",
       " ('010123114', 'ANALOG AND DIGITAL ELECTRONI', 3),\n",
       " ('10123107', 'LOGIC DESIGN OF DIGITAL SYSTTEMS', 3),\n",
       " ('80303521', 'E-SPORTS', 1),\n",
       " ('010123115', 'ANALOG AND DIGITAL ELECTRONI', 1),\n",
       " ('10123102', 'PROGRAMMING FUNDAMENTALS', 3),\n",
       " ('10123133', 'DISCRETE MATHEMATICS', 3),\n",
       " ('10123115', 'ANALOG AND DIGITAL ELECTRONI', 1),\n",
       " ('80303609', 'HEALTHY LIFE', 3),\n",
       " ('10123105', 'STATISTICS FOR COMPUTER ENGI', 3),\n",
       " ('40313005', 'PHYSICS I', 3),\n",
       " ('10123103', 'ALGORITHMS AND DATA STRUCTURE', 3),\n",
       " ('80103002', 'ENGLISH II', 3),\n",
       " ('080203901', 'MAN AND SOCIETY', 3),\n",
       " ('010123131', 'SOFTWARE DEVELOPMENT PRACTICE I', 3),\n",
       " ('10113030', 'INTRODUCTION TO ENGINEERING', 1),\n",
       " ('80303907', 'PSYCHO FOR ENTREPRENEURSHIP', 3),\n",
       " ('010123126', 'COMPUTER NETWORKS I', 3),\n",
       " ('10123131', 'SOFTWARE DEVELOPMENT PRACTICE', 3),\n",
       " ('010123105', 'STATISTICS FOR COMPUTER ENGINEER', 3),\n",
       " ('10113011', 'ELECTRIC CIRCUIT LAB', 1),\n",
       " ('010123116', 'SOFTWARE ENGINEERING', 3),\n",
       " ('040313007', 'PHYSICS II', 3),\n",
       " ('80303610', 'RECREATION FOR LIFE', 3),\n",
       " ('10123126', 'COMPUTER NETWORKS I', 3),\n",
       " ('010123107', 'LOGIC DESIGN OF DIGITAL SYST', 3),\n",
       " ('10123108', 'DIGITAL SYSTEM DESIGN LABORA', 1),\n",
       " ('080103001', 'ENGLISH I', 3),\n",
       " ('40413001', 'BIOLOGY IN DAILY LIFE', 3),\n",
       " ('010123103', 'ALGORITHMS AND DATA STRUCTURE', 3),\n",
       " ('10123132', 'SOFTWARE DEVELOPMENT PRACTIC', 3),\n",
       " ('10123119', 'EMBEDDED SYSTEM DESIGN', 3),\n",
       " ('010123105', 'STATISTICS FOR COMPUTER ENGI', 3),\n",
       " ('010113010', 'ELECTRIC CIRCUIT THEORY', 3),\n",
       " ('10123129', 'UBIQUITOUS COMPUTING', 3),\n",
       " ('040413001', 'BIOLOGY IN DAILY LIFE', 3),\n",
       " ('10123114', 'ANALOG AND DIGITAL ELECTRONI', 3),\n",
       " ('10123127', 'COMPUTER NETWORKS II', 3),\n",
       " ('040203111', 'ENGINEERING MATHEMATICS I', 3),\n",
       " ('010123119', 'EMBEDDED SYSTEM DESIGN', 3),\n",
       " ('080203907', 'BUSINESS AND EVERYDAY LIFE', 3),\n",
       " ('010123130', 'COMPUTER ENGINEERING EXPLORATION', 1),\n",
       " ('010123108', 'DIGITAL SYSTEM DESIGN LABORATORY', 1),\n",
       " ('010123134', 'COMPUTER ORGANIZATION', 3),\n",
       " ('040313006', 'PHYSICS LABORATORY I', 1),\n",
       " ('010113030', 'INTRODUCTION TO ENGINEERING', 1),\n",
       " ('40313008', 'PHYSICS LABORATORY II', 1),\n",
       " ('40313006', 'PHYSICS LABORATORY I', 1),\n",
       " ('80103034', 'ENGLISH CONVERSATION', 3),\n",
       " ('10123103', 'ALGORITHMS AND DATA STRUCTUR', 3),\n",
       " ('40203112', 'ENGINEERING MATHEMATICS II', 3),\n",
       " ('40003004', 'DESIGN THINKING', 3),\n",
       " ('10113010', 'ELECTRIC CIRCUIT THEORY', 3),\n",
       " ('040313005', 'PHYSICS I', 3),\n",
       " ('40313007', 'PHYSICS II', 3),\n",
       " ('010113138', 'CIRCUITS AND ELECTRONICS', 3),\n",
       " ('10123131', 'SOFTWARE DEVELOPMENT PRACTICE I', 3),\n",
       " ('080303521', 'E-SPORTS', 1),\n",
       " ('010403006', 'WORK ETHICS', 1),\n",
       " ('10123106', 'INTRODUCTION TO SIGNALS AND SYSTEMS', 3),\n",
       " ('10113139', 'CIRCUITS AND ELECTRONICS LAB', 1),\n",
       " ('010113011', 'ELECTRIC CIRCUIT LAB', 1),\n",
       " ('040203112', 'ENGINEERING MATHEMATICS II', 3),\n",
       " ('010123131', 'SOFTWARE DEVELOPMENT PRACTIC', 3),\n",
       " ('10123116', 'SOFTWARE ENGINEERING', 3),\n",
       " ('080303601', 'HUMAN RELATIONS', 3),\n",
       " ('10403005', 'INTRODUCTION TO ENGINEERING', 1),\n",
       " ('80103001', 'ENGLISH I', 3),\n",
       " ('040003004', 'DESIGN THINKING', 3),\n",
       " ('010123129', 'UBIQUITOUS COMPUTING', 3),\n",
       " ('10123105', 'STATISTICS FOR COMPUTER ENGINEER', 3),\n",
       " ('80303601', 'HUMAN RELATIONS', 3),\n",
       " ('040203100', 'GENERAL MATHEMATICS', 3),\n",
       " ('010123105', 'STATISTICS FOR COMPUTER', 3),\n",
       " ('010123103', 'ALGORITHMS AND DATA STRUCTUR', 3),\n",
       " ('080303907', 'PSYCHO FOR ENTREPRENEURSHIP', 3),\n",
       " ('10123131', 'SOFTWARE DEVELOPMENT PRACTIC', 3),\n",
       " ('010123127', 'COMPUTER NETWORKS II', 3),\n",
       " ('010123133', 'DISCRETE MATHEMATICS', 3),\n",
       " ('10123107', 'LOGIC DESIGN OF DIGITAL SYSTEMS', 3),\n",
       " ('40203100', 'GENERAL MATHEMATICS', 3),\n",
       " ('10123105', 'STATISTICS FOR COMPUTER ENGINEERS', 3),\n",
       " ('10113138', 'CIRCUITS AND ELECTRONICS', 3),\n",
       " ('10123107', 'LOGIC DESIGN OF DIGITAL SYST', 3),\n",
       " ('10123130', 'COMPUTER ENGINEERING EXPLORA', 1),\n",
       " ('10123107', 'LOGIC DESIGN OF DIGITAL SYSTEM', 3),\n",
       " ('080303609', 'HEALTHY LIFE', 3),\n",
       " ('010123106', 'INTRODUCTION TO SIGNALS AND', 3),\n",
       " ('080303610', 'RECREATION FOR LIFE', 3),\n",
       " ('10123105', 'STATISTICS FOR COMPUTER ENGINEERING', 3),\n",
       " ('010113139', 'CIRCUITS AND ELECTRONICS LAB', 1),\n",
       " ('010123102', 'PROGRAMMING FUNDAMENTALS', 3),\n",
       " ('40313016', 'PHYSICS IN DAILY LIFE', 3),\n",
       " ('010123117', 'OPERATING SYSTEMS', 3),\n",
       " ('010123108', 'DIGITAL SYSTEM DESIGN LABORA', 1),\n",
       " ('80203901', 'MAN AND SOCIETY', 3),\n",
       " ('080103034', 'ENGLISH CONVERSATION', 3),\n",
       " ('10123108', 'DIGITAL SYSTEM DESIGN LABORATORY', 1),\n",
       " ('80203907', 'BUSINESS AND EVERYDAY LIFE', 3),\n",
       " ('10123117', 'OPERATING SYSTEMS', 3),\n",
       " ('40203111', 'ENGINEERING MATHEMATICS I', 3),\n",
       " ('080303502', 'VOLLEYBALL', 1),\n",
       " ('010403005', 'INTRODUCTION TO ENGINEERING', 1),\n",
       " ('040313016', 'PHYSICS IN DAILY LIFE', 3),\n",
       " ('010123132', 'SOFTWARE DEVELOPMENT PRACTIC', 3),\n",
       " ('010123108', 'DIGITAL SYSTEM DESIGN LAB', 1),\n",
       " ('010123106', 'INTRODUCTION TO SIGNALS AND SYSTEM', 3),\n",
       " ('010123130', 'COMPUTER ENGINEERING EXPLORA', 1),\n",
       " ('10403006', 'WORK ETHICS', 1),\n",
       " ('80303505', 'TABLE TENNIS', 1),\n",
       " ('80303502', 'VOLLEYBALL', 1),\n",
       " ('10123134', 'COMPUTER ORGANIZATION', 3),\n",
       " ('10123106', 'INTRODUCTION TO SIGNALS AND', 3)]"
      ]
     },
     "execution_count": 106,
     "metadata": {},
     "output_type": "execute_result"
    }
   ],
   "source": [
    "avail_sub = list(avail_subjects())\n",
    "avail_sub"
   ]
  },
  {
   "cell_type": "code",
   "execution_count": 111,
   "metadata": {},
   "outputs": [],
   "source": [
    "def remove_dupe(ava):\n",
    "    avail_sub = ava\n",
    "    to_remove = []\n",
    "    replace = []\n",
    "    for i in avail_sub:\n",
    "        if len(i[0]) < 9:\n",
    "            to_remove.append(i)\n",
    "            replace.append([\n",
    "                '0'+i[0],\n",
    "                i[1],\n",
    "                i[2]\n",
    "            ])\n",
    "    for i in to_remove:\n",
    "        avail_sub.remove(i)\n",
    "    for i in replace:\n",
    "        avail_sub.append(tuple(i))\n",
    "    avail_sub = set(avail_sub)\n",
    "    sub_dict = {}\n",
    "    for i in avail_sub:\n",
    "        if i[0] not in sub_dict:\n",
    "            sub_dict[i[0]] = (i[1],i[2])\n",
    "        else:\n",
    "            if len(i[1]) < len(sub_dict[i[0]]):\n",
    "                sub_dict[i[0]] = (i[1],i[2])\n",
    "    return sub_dict"
   ]
  },
  {
   "cell_type": "code",
   "execution_count": 112,
   "metadata": {},
   "outputs": [
    {
     "data": {
      "text/plain": [
       "{'010123116': ('SOFTWARE ENGINEERING', 3),\n",
       " '080103002': ('ENGLISH II', 3),\n",
       " '010123107': ('LOGIC DESIGN OF DIGITAL SYSTEM', 3),\n",
       " '040313007': ('PHYSICS II', 3),\n",
       " '040313008': ('PHYSICS LABORATORY II', 1),\n",
       " '080303505': ('TABLE TENNIS', 1),\n",
       " '010123114': ('ANALOG AND DIGITAL ELECTRONI', 3),\n",
       " '010123105': ('STATISTICS FOR COMPUTER ENGINEERS', 3),\n",
       " '080103001': ('ENGLISH I', 3),\n",
       " '040313005': ('PHYSICS I', 3),\n",
       " '010123131': ('SOFTWARE DEVELOPMENT PRACTICE', 3),\n",
       " '010123115': ('ANALOG AND DIGITAL ELECTRONI', 1),\n",
       " '080303609': ('HEALTHY LIFE', 3),\n",
       " '010113138': ('CIRCUITS AND ELECTRONICS', 3),\n",
       " '010123103': ('ALGORITHMS AND DATA STRUCTURE', 3),\n",
       " '010123106': ('INTRODUCTION TO SIGNALS AND', 3),\n",
       " '080303610': ('RECREATION FOR LIFE', 3),\n",
       " '080303521': ('E-SPORTS', 1),\n",
       " '010113139': ('CIRCUITS AND ELECTRONICS LAB', 1),\n",
       " '010403006': ('WORK ETHICS', 1),\n",
       " '010123102': ('PROGRAMMING FUNDAMENTALS', 3),\n",
       " '010123117': ('OPERATING SYSTEMS', 3),\n",
       " '010113011': ('ELECTRIC CIRCUIT LAB', 1),\n",
       " '010113010': ('ELECTRIC CIRCUIT THEORY', 3),\n",
       " '040203112': ('ENGINEERING MATHEMATICS II', 3),\n",
       " '010123108': ('DIGITAL SYSTEM DESIGN LABORA', 1),\n",
       " '040413001': ('BIOLOGY IN DAILY LIFE', 3),\n",
       " '080103034': ('ENGLISH CONVERSATION', 3),\n",
       " '080303601': ('HUMAN RELATIONS', 3),\n",
       " '080303502': ('VOLLEYBALL', 1),\n",
       " '040003004': ('DESIGN THINKING', 3),\n",
       " '080203901': ('MAN AND SOCIETY', 3),\n",
       " '010123129': ('UBIQUITOUS COMPUTING', 3),\n",
       " '010403005': ('INTRODUCTION TO ENGINEERING', 1),\n",
       " '040313016': ('PHYSICS IN DAILY LIFE', 3),\n",
       " '040203111': ('ENGINEERING MATHEMATICS I', 3),\n",
       " '010123119': ('EMBEDDED SYSTEM DESIGN', 3),\n",
       " '080203907': ('BUSINESS AND EVERYDAY LIFE', 3),\n",
       " '010123132': ('SOFTWARE DEVELOPMENT PRACTIC', 3),\n",
       " '010123130': ('COMPUTER ENGINEERING EXPLORATION', 1),\n",
       " '040203100': ('GENERAL MATHEMATICS', 3),\n",
       " '010123126': ('COMPUTER NETWORKS I', 3),\n",
       " '010123134': ('COMPUTER ORGANIZATION', 3),\n",
       " '080303907': ('PSYCHO FOR ENTREPRENEURSHIP', 3),\n",
       " '040313006': ('PHYSICS LABORATORY I', 1),\n",
       " '010113030': ('INTRODUCTION TO ENGINEERING', 1),\n",
       " '010123127': ('COMPUTER NETWORKS II', 3),\n",
       " '010123133': ('DISCRETE MATHEMATICS', 3)}"
      ]
     },
     "execution_count": 112,
     "metadata": {},
     "output_type": "execute_result"
    }
   ],
   "source": [
    "remove_dupe(avail_sub)"
   ]
  },
  {
   "cell_type": "code",
   "execution_count": 113,
   "metadata": {},
   "outputs": [],
   "source": [
    "grades = {\n",
    "    'A' : 4,\n",
    "    'B+' : 3.5,\n",
    "    'B' : 3,\n",
    "    'C+' : 2.5,\n",
    "    'C' : 2,\n",
    "    'D+' : 1.5,\n",
    "    'D' : 1,\n",
    "    'F' : 0,\n",
    "}"
   ]
  },
  {
   "cell_type": "code",
   "execution_count": 114,
   "metadata": {},
   "outputs": [],
   "source": [
    "years = [2564,2565]"
   ]
  },
  {
   "cell_type": "code",
   "execution_count": 116,
   "metadata": {},
   "outputs": [
    {
     "data": {
      "text/plain": [
       "[(279, '80303601', 'HUMAN RELATIONS', 3, 'A', 4.0, '2564', 1, 8, 36, 8),\n",
       " (280,\n",
       "  '10113138',\n",
       "  'CIRCUITS AND ELECTRONICS',\n",
       "  3,\n",
       "  'A',\n",
       "  4.0,\n",
       "  '2564',\n",
       "  2,\n",
       "  8,\n",
       "  36,\n",
       "  8),\n",
       " (281,\n",
       "  '10113139',\n",
       "  'CIRCUITS AND ELECTRONICS LAB',\n",
       "  1,\n",
       "  'B+',\n",
       "  3.5,\n",
       "  '2564',\n",
       "  2,\n",
       "  8,\n",
       "  36,\n",
       "  8),\n",
       " (282,\n",
       "  '10123103',\n",
       "  'ALGORITHMS AND DATA STRUCTURE',\n",
       "  3,\n",
       "  'A',\n",
       "  4.0,\n",
       "  '2564',\n",
       "  2,\n",
       "  8,\n",
       "  36,\n",
       "  8),\n",
       " (283, '40003004', 'DESIGN THINKING', 3, 'A', 4.0, '2564', 2, 8, 36, 8),\n",
       " (284,\n",
       "  '40203112',\n",
       "  'ENGINEERING MATHEMATICS II',\n",
       "  3,\n",
       "  'B+',\n",
       "  3.5,\n",
       "  '2564',\n",
       "  2,\n",
       "  8,\n",
       "  36,\n",
       "  8),\n",
       " (285, '40313007', 'PHYSICS II', 3, 'A', 4.0, '2564', 2, 8, 36, 8),\n",
       " (286, '40313008', 'PHYSICS LABORATORY II', 1, 'A', 4.0, '2564', 2, 8, 36, 8)]"
      ]
     },
     "execution_count": 116,
     "metadata": {},
     "output_type": "execute_result"
    }
   ],
   "source": [
    "def select_con():\n",
    "    cur.execute('''SELECT * FROM subjects\n",
    "    WHERE GpaID_id = 36''')\n",
    "    rows = cur.fetchall()\n",
    "    return rows\n",
    "select_con()"
   ]
  },
  {
   "cell_type": "code",
   "execution_count": null,
   "metadata": {},
   "outputs": [],
   "source": []
  }
 ],
 "metadata": {
  "kernelspec": {
   "display_name": "Python 3",
   "language": "python",
   "name": "python3"
  },
  "language_info": {
   "codemirror_mode": {
    "name": "ipython",
    "version": 3
   },
   "file_extension": ".py",
   "mimetype": "text/x-python",
   "name": "python",
   "nbconvert_exporter": "python",
   "pygments_lexer": "ipython3",
   "version": "3.10.9"
  },
  "orig_nbformat": 4,
  "vscode": {
   "interpreter": {
    "hash": "b0fa6594d8f4cbf19f97940f81e996739fb7646882a419484c72d19e05852a7e"
   }
  }
 },
 "nbformat": 4,
 "nbformat_minor": 2
}
